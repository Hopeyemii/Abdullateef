{
 "cells": [
  {
   "cell_type": "code",
   "execution_count": 1,
   "id": "7b575579",
   "metadata": {},
   "outputs": [],
   "source": [
    "import numpy as np\n",
    "import pandas as pd\n",
    "import matplotlib.pyplot as plt\n",
    "import seaborn as sns\n",
    "%matplotlib inline\n",
    "pd.set_option('display.max_columns', None)"
   ]
  },
  {
   "cell_type": "code",
   "execution_count": 2,
   "id": "8b19dc88",
   "metadata": {},
   "outputs": [],
   "source": [
    "# read in the data\n",
    "order = pd.read_csv('orders.csv')\n",
    "order_details = pd.read_csv('order_details.csv')\n",
    "pizza = pd.read_csv('pizzas.csv')\n",
    "pizza_type = pd.read_csv('pizza_sales.csv', encoding='latin1')"
   ]
  },
  {
   "cell_type": "code",
   "execution_count": 3,
   "id": "2a873672",
   "metadata": {},
   "outputs": [],
   "source": [
    "merged_data= order.merge(order_details, on='order_id').merge(pizza, on='pizza_id').merge(pizza_type, on='pizza_type_id')"
   ]
  },
  {
   "cell_type": "code",
   "execution_count": 4,
   "id": "da0a3864",
   "metadata": {},
   "outputs": [
    {
     "data": {
      "text/html": [
       "<div>\n",
       "<style scoped>\n",
       "    .dataframe tbody tr th:only-of-type {\n",
       "        vertical-align: middle;\n",
       "    }\n",
       "\n",
       "    .dataframe tbody tr th {\n",
       "        vertical-align: top;\n",
       "    }\n",
       "\n",
       "    .dataframe thead th {\n",
       "        text-align: right;\n",
       "    }\n",
       "</style>\n",
       "<table border=\"1\" class=\"dataframe\">\n",
       "  <thead>\n",
       "    <tr style=\"text-align: right;\">\n",
       "      <th></th>\n",
       "      <th>order_id</th>\n",
       "      <th>date</th>\n",
       "      <th>time</th>\n",
       "      <th>order_details_id</th>\n",
       "      <th>pizza_id</th>\n",
       "      <th>quantity</th>\n",
       "      <th>pizza_type_id</th>\n",
       "      <th>size</th>\n",
       "      <th>price</th>\n",
       "      <th>name</th>\n",
       "      <th>category</th>\n",
       "      <th>ingredients</th>\n",
       "    </tr>\n",
       "  </thead>\n",
       "  <tbody>\n",
       "    <tr>\n",
       "      <th>0</th>\n",
       "      <td>1</td>\n",
       "      <td>2015-01-01</td>\n",
       "      <td>11:38:36</td>\n",
       "      <td>1</td>\n",
       "      <td>hawaiian_m</td>\n",
       "      <td>1</td>\n",
       "      <td>hawaiian</td>\n",
       "      <td>M</td>\n",
       "      <td>13.25</td>\n",
       "      <td>The Hawaiian Pizza</td>\n",
       "      <td>Classic</td>\n",
       "      <td>Sliced Ham, Pineapple, Mozzarella Cheese</td>\n",
       "    </tr>\n",
       "    <tr>\n",
       "      <th>1</th>\n",
       "      <td>77</td>\n",
       "      <td>2015-01-02</td>\n",
       "      <td>12:22:46</td>\n",
       "      <td>179</td>\n",
       "      <td>hawaiian_m</td>\n",
       "      <td>1</td>\n",
       "      <td>hawaiian</td>\n",
       "      <td>M</td>\n",
       "      <td>13.25</td>\n",
       "      <td>The Hawaiian Pizza</td>\n",
       "      <td>Classic</td>\n",
       "      <td>Sliced Ham, Pineapple, Mozzarella Cheese</td>\n",
       "    </tr>\n",
       "    <tr>\n",
       "      <th>2</th>\n",
       "      <td>146</td>\n",
       "      <td>2015-01-03</td>\n",
       "      <td>14:22:10</td>\n",
       "      <td>357</td>\n",
       "      <td>hawaiian_m</td>\n",
       "      <td>1</td>\n",
       "      <td>hawaiian</td>\n",
       "      <td>M</td>\n",
       "      <td>13.25</td>\n",
       "      <td>The Hawaiian Pizza</td>\n",
       "      <td>Classic</td>\n",
       "      <td>Sliced Ham, Pineapple, Mozzarella Cheese</td>\n",
       "    </tr>\n",
       "    <tr>\n",
       "      <th>3</th>\n",
       "      <td>163</td>\n",
       "      <td>2015-01-03</td>\n",
       "      <td>16:54:54</td>\n",
       "      <td>389</td>\n",
       "      <td>hawaiian_m</td>\n",
       "      <td>1</td>\n",
       "      <td>hawaiian</td>\n",
       "      <td>M</td>\n",
       "      <td>13.25</td>\n",
       "      <td>The Hawaiian Pizza</td>\n",
       "      <td>Classic</td>\n",
       "      <td>Sliced Ham, Pineapple, Mozzarella Cheese</td>\n",
       "    </tr>\n",
       "    <tr>\n",
       "      <th>4</th>\n",
       "      <td>247</td>\n",
       "      <td>2015-01-04</td>\n",
       "      <td>20:55:29</td>\n",
       "      <td>568</td>\n",
       "      <td>hawaiian_m</td>\n",
       "      <td>1</td>\n",
       "      <td>hawaiian</td>\n",
       "      <td>M</td>\n",
       "      <td>13.25</td>\n",
       "      <td>The Hawaiian Pizza</td>\n",
       "      <td>Classic</td>\n",
       "      <td>Sliced Ham, Pineapple, Mozzarella Cheese</td>\n",
       "    </tr>\n",
       "  </tbody>\n",
       "</table>\n",
       "</div>"
      ],
      "text/plain": [
       "   order_id        date      time  order_details_id    pizza_id  quantity  \\\n",
       "0         1  2015-01-01  11:38:36                 1  hawaiian_m         1   \n",
       "1        77  2015-01-02  12:22:46               179  hawaiian_m         1   \n",
       "2       146  2015-01-03  14:22:10               357  hawaiian_m         1   \n",
       "3       163  2015-01-03  16:54:54               389  hawaiian_m         1   \n",
       "4       247  2015-01-04  20:55:29               568  hawaiian_m         1   \n",
       "\n",
       "  pizza_type_id size  price                name category  \\\n",
       "0      hawaiian    M  13.25  The Hawaiian Pizza  Classic   \n",
       "1      hawaiian    M  13.25  The Hawaiian Pizza  Classic   \n",
       "2      hawaiian    M  13.25  The Hawaiian Pizza  Classic   \n",
       "3      hawaiian    M  13.25  The Hawaiian Pizza  Classic   \n",
       "4      hawaiian    M  13.25  The Hawaiian Pizza  Classic   \n",
       "\n",
       "                                ingredients  \n",
       "0  Sliced Ham, Pineapple, Mozzarella Cheese  \n",
       "1  Sliced Ham, Pineapple, Mozzarella Cheese  \n",
       "2  Sliced Ham, Pineapple, Mozzarella Cheese  \n",
       "3  Sliced Ham, Pineapple, Mozzarella Cheese  \n",
       "4  Sliced Ham, Pineapple, Mozzarella Cheese  "
      ]
     },
     "execution_count": 4,
     "metadata": {},
     "output_type": "execute_result"
    }
   ],
   "source": [
    "merged_data.head()"
   ]
  },
  {
   "cell_type": "code",
   "execution_count": 5,
   "id": "e007238c",
   "metadata": {},
   "outputs": [
    {
     "data": {
      "text/plain": [
       "(48620, 12)"
      ]
     },
     "execution_count": 5,
     "metadata": {},
     "output_type": "execute_result"
    }
   ],
   "source": [
    "merged_data.shape"
   ]
  },
  {
   "cell_type": "code",
   "execution_count": 6,
   "id": "ddb1c5a8",
   "metadata": {},
   "outputs": [
    {
     "data": {
      "text/plain": [
       "Index(['order_id', 'date', 'time', 'order_details_id', 'pizza_id', 'quantity',\n",
       "       'pizza_type_id', 'size', 'price', 'name', 'category', 'ingredients'],\n",
       "      dtype='object')"
      ]
     },
     "execution_count": 6,
     "metadata": {},
     "output_type": "execute_result"
    }
   ],
   "source": [
    "merged_data.columns"
   ]
  },
  {
   "cell_type": "code",
   "execution_count": 7,
   "id": "b7632b6d",
   "metadata": {},
   "outputs": [
    {
     "data": {
      "text/plain": [
       "order_id              int64\n",
       "date                 object\n",
       "time                 object\n",
       "order_details_id      int64\n",
       "pizza_id             object\n",
       "quantity              int64\n",
       "pizza_type_id        object\n",
       "size                 object\n",
       "price               float64\n",
       "name                 object\n",
       "category             object\n",
       "ingredients          object\n",
       "dtype: object"
      ]
     },
     "execution_count": 7,
     "metadata": {},
     "output_type": "execute_result"
    }
   ],
   "source": [
    "merged_data.dtypes"
   ]
  },
  {
   "cell_type": "code",
   "execution_count": 8,
   "id": "e2831f64",
   "metadata": {},
   "outputs": [
    {
     "data": {
      "text/plain": [
       "order_id            0\n",
       "date                0\n",
       "time                0\n",
       "order_details_id    0\n",
       "pizza_id            0\n",
       "quantity            0\n",
       "pizza_type_id       0\n",
       "size                0\n",
       "price               0\n",
       "name                0\n",
       "category            0\n",
       "ingredients         0\n",
       "dtype: int64"
      ]
     },
     "execution_count": 8,
     "metadata": {},
     "output_type": "execute_result"
    }
   ],
   "source": [
    "merged_data.isna().sum()"
   ]
  },
  {
   "cell_type": "code",
   "execution_count": 9,
   "id": "3e5c2c7e",
   "metadata": {},
   "outputs": [
    {
     "data": {
      "text/plain": [
       "0"
      ]
     },
     "execution_count": 9,
     "metadata": {},
     "output_type": "execute_result"
    }
   ],
   "source": [
    "merged_data.duplicated().sum()"
   ]
  },
  {
   "cell_type": "code",
   "execution_count": 10,
   "id": "eb580454",
   "metadata": {},
   "outputs": [],
   "source": [
    "# Convert the \"date\" column to datetime format\n",
    "merged_data['date'] = pd.to_datetime(merged_data['date'])\n",
    "\n",
    "# Extract the year, month, and day from the \"date\" column\n",
    "merged_data[\"Year\"] = merged_data[\"date\"].dt.year\n",
    "merged_data[\"Month\"] = merged_data[\"date\"].dt.month\n",
    "merged_data[\"Day\"] = merged_data[\"date\"].dt.day"
   ]
  },
  {
   "cell_type": "code",
   "execution_count": 11,
   "id": "0325e749",
   "metadata": {},
   "outputs": [],
   "source": [
    "# Extract the weekday from the \"date\" column\n",
    "merged_data['Weekday']= pd.DatetimeIndex(merged_data['date']).day_name()"
   ]
  },
  {
   "cell_type": "code",
   "execution_count": 12,
   "id": "e16c04e4",
   "metadata": {},
   "outputs": [],
   "source": [
    "merged_data['time']= pd.to_datetime(merged_data['time'])\n",
    "\n",
    "# Extract the hour and minute from the 'time' column\n",
    "merged_data['Hour']= merged_data['time'].dt.hour\n",
    "merged_data['Minute']= merged_data['time'].dt.minute"
   ]
  },
  {
   "cell_type": "code",
   "execution_count": 13,
   "id": "43006cdc",
   "metadata": {},
   "outputs": [
    {
     "data": {
      "text/html": [
       "<div>\n",
       "<style scoped>\n",
       "    .dataframe tbody tr th:only-of-type {\n",
       "        vertical-align: middle;\n",
       "    }\n",
       "\n",
       "    .dataframe tbody tr th {\n",
       "        vertical-align: top;\n",
       "    }\n",
       "\n",
       "    .dataframe thead th {\n",
       "        text-align: right;\n",
       "    }\n",
       "</style>\n",
       "<table border=\"1\" class=\"dataframe\">\n",
       "  <thead>\n",
       "    <tr style=\"text-align: right;\">\n",
       "      <th></th>\n",
       "      <th>order_id</th>\n",
       "      <th>date</th>\n",
       "      <th>time</th>\n",
       "      <th>order_details_id</th>\n",
       "      <th>pizza_id</th>\n",
       "      <th>quantity</th>\n",
       "      <th>pizza_type_id</th>\n",
       "      <th>size</th>\n",
       "      <th>price</th>\n",
       "      <th>name</th>\n",
       "      <th>category</th>\n",
       "      <th>ingredients</th>\n",
       "      <th>Year</th>\n",
       "      <th>Month</th>\n",
       "      <th>Day</th>\n",
       "      <th>Weekday</th>\n",
       "      <th>Hour</th>\n",
       "      <th>Minute</th>\n",
       "    </tr>\n",
       "  </thead>\n",
       "  <tbody>\n",
       "    <tr>\n",
       "      <th>0</th>\n",
       "      <td>1</td>\n",
       "      <td>2015-01-01</td>\n",
       "      <td>2023-10-28 11:38:36</td>\n",
       "      <td>1</td>\n",
       "      <td>hawaiian_m</td>\n",
       "      <td>1</td>\n",
       "      <td>hawaiian</td>\n",
       "      <td>M</td>\n",
       "      <td>13.25</td>\n",
       "      <td>The Hawaiian Pizza</td>\n",
       "      <td>Classic</td>\n",
       "      <td>Sliced Ham, Pineapple, Mozzarella Cheese</td>\n",
       "      <td>2015</td>\n",
       "      <td>1</td>\n",
       "      <td>1</td>\n",
       "      <td>Thursday</td>\n",
       "      <td>11</td>\n",
       "      <td>38</td>\n",
       "    </tr>\n",
       "    <tr>\n",
       "      <th>1</th>\n",
       "      <td>77</td>\n",
       "      <td>2015-01-02</td>\n",
       "      <td>2023-10-28 12:22:46</td>\n",
       "      <td>179</td>\n",
       "      <td>hawaiian_m</td>\n",
       "      <td>1</td>\n",
       "      <td>hawaiian</td>\n",
       "      <td>M</td>\n",
       "      <td>13.25</td>\n",
       "      <td>The Hawaiian Pizza</td>\n",
       "      <td>Classic</td>\n",
       "      <td>Sliced Ham, Pineapple, Mozzarella Cheese</td>\n",
       "      <td>2015</td>\n",
       "      <td>1</td>\n",
       "      <td>2</td>\n",
       "      <td>Friday</td>\n",
       "      <td>12</td>\n",
       "      <td>22</td>\n",
       "    </tr>\n",
       "    <tr>\n",
       "      <th>2</th>\n",
       "      <td>146</td>\n",
       "      <td>2015-01-03</td>\n",
       "      <td>2023-10-28 14:22:10</td>\n",
       "      <td>357</td>\n",
       "      <td>hawaiian_m</td>\n",
       "      <td>1</td>\n",
       "      <td>hawaiian</td>\n",
       "      <td>M</td>\n",
       "      <td>13.25</td>\n",
       "      <td>The Hawaiian Pizza</td>\n",
       "      <td>Classic</td>\n",
       "      <td>Sliced Ham, Pineapple, Mozzarella Cheese</td>\n",
       "      <td>2015</td>\n",
       "      <td>1</td>\n",
       "      <td>3</td>\n",
       "      <td>Saturday</td>\n",
       "      <td>14</td>\n",
       "      <td>22</td>\n",
       "    </tr>\n",
       "    <tr>\n",
       "      <th>3</th>\n",
       "      <td>163</td>\n",
       "      <td>2015-01-03</td>\n",
       "      <td>2023-10-28 16:54:54</td>\n",
       "      <td>389</td>\n",
       "      <td>hawaiian_m</td>\n",
       "      <td>1</td>\n",
       "      <td>hawaiian</td>\n",
       "      <td>M</td>\n",
       "      <td>13.25</td>\n",
       "      <td>The Hawaiian Pizza</td>\n",
       "      <td>Classic</td>\n",
       "      <td>Sliced Ham, Pineapple, Mozzarella Cheese</td>\n",
       "      <td>2015</td>\n",
       "      <td>1</td>\n",
       "      <td>3</td>\n",
       "      <td>Saturday</td>\n",
       "      <td>16</td>\n",
       "      <td>54</td>\n",
       "    </tr>\n",
       "    <tr>\n",
       "      <th>4</th>\n",
       "      <td>247</td>\n",
       "      <td>2015-01-04</td>\n",
       "      <td>2023-10-28 20:55:29</td>\n",
       "      <td>568</td>\n",
       "      <td>hawaiian_m</td>\n",
       "      <td>1</td>\n",
       "      <td>hawaiian</td>\n",
       "      <td>M</td>\n",
       "      <td>13.25</td>\n",
       "      <td>The Hawaiian Pizza</td>\n",
       "      <td>Classic</td>\n",
       "      <td>Sliced Ham, Pineapple, Mozzarella Cheese</td>\n",
       "      <td>2015</td>\n",
       "      <td>1</td>\n",
       "      <td>4</td>\n",
       "      <td>Sunday</td>\n",
       "      <td>20</td>\n",
       "      <td>55</td>\n",
       "    </tr>\n",
       "  </tbody>\n",
       "</table>\n",
       "</div>"
      ],
      "text/plain": [
       "   order_id       date                time  order_details_id    pizza_id  \\\n",
       "0         1 2015-01-01 2023-10-28 11:38:36                 1  hawaiian_m   \n",
       "1        77 2015-01-02 2023-10-28 12:22:46               179  hawaiian_m   \n",
       "2       146 2015-01-03 2023-10-28 14:22:10               357  hawaiian_m   \n",
       "3       163 2015-01-03 2023-10-28 16:54:54               389  hawaiian_m   \n",
       "4       247 2015-01-04 2023-10-28 20:55:29               568  hawaiian_m   \n",
       "\n",
       "   quantity pizza_type_id size  price                name category  \\\n",
       "0         1      hawaiian    M  13.25  The Hawaiian Pizza  Classic   \n",
       "1         1      hawaiian    M  13.25  The Hawaiian Pizza  Classic   \n",
       "2         1      hawaiian    M  13.25  The Hawaiian Pizza  Classic   \n",
       "3         1      hawaiian    M  13.25  The Hawaiian Pizza  Classic   \n",
       "4         1      hawaiian    M  13.25  The Hawaiian Pizza  Classic   \n",
       "\n",
       "                                ingredients  Year  Month  Day   Weekday  Hour  \\\n",
       "0  Sliced Ham, Pineapple, Mozzarella Cheese  2015      1    1  Thursday    11   \n",
       "1  Sliced Ham, Pineapple, Mozzarella Cheese  2015      1    2    Friday    12   \n",
       "2  Sliced Ham, Pineapple, Mozzarella Cheese  2015      1    3  Saturday    14   \n",
       "3  Sliced Ham, Pineapple, Mozzarella Cheese  2015      1    3  Saturday    16   \n",
       "4  Sliced Ham, Pineapple, Mozzarella Cheese  2015      1    4    Sunday    20   \n",
       "\n",
       "   Minute  \n",
       "0      38  \n",
       "1      22  \n",
       "2      22  \n",
       "3      54  \n",
       "4      55  "
      ]
     },
     "execution_count": 13,
     "metadata": {},
     "output_type": "execute_result"
    }
   ],
   "source": [
    "# Recheck the data\n",
    "merged_data.head()"
   ]
  },
  {
   "cell_type": "markdown",
   "id": "d67c5e9b",
   "metadata": {},
   "source": [
    "# DATA EXPLORATION"
   ]
  },
  {
   "cell_type": "code",
   "execution_count": 14,
   "id": "4fb4b677",
   "metadata": {},
   "outputs": [
    {
     "name": "stdout",
     "output_type": "stream",
     "text": [
      "[2015] \n",
      "\n",
      " [ 1  2  3  4  5  6  7  8  9 10 11 12] \n",
      "\n",
      " [ 1  2  3  4  6  7  9 10 14 17 19 21 22 23 27 28 29 30 31  5  8 11 12 13\n",
      " 16 18 20 24 26 15 25]\n"
     ]
    }
   ],
   "source": [
    "print(merged_data.Year.unique(),'\\n\\n', merged_data.Month.unique(),'\\n\\n', merged_data.Day.unique())"
   ]
  },
  {
   "cell_type": "code",
   "execution_count": 15,
   "id": "80b9133e",
   "metadata": {},
   "outputs": [
    {
     "data": {
      "text/plain": [
       "array(['Thursday', 'Friday', 'Saturday', 'Sunday', 'Tuesday', 'Wednesday',\n",
       "       'Monday'], dtype=object)"
      ]
     },
     "execution_count": 15,
     "metadata": {},
     "output_type": "execute_result"
    }
   ],
   "source": [
    "merged_data.Weekday.unique()"
   ]
  },
  {
   "cell_type": "code",
   "execution_count": 16,
   "id": "484865e3",
   "metadata": {},
   "outputs": [
    {
     "name": "stdout",
     "output_type": "stream",
     "text": [
      "[11 12 14 16 20 17 13 18 19 15 21 22 23  9 10] \n",
      "\n",
      " [38 22 54 55 11 37  3 51 56 34 44  0 36 53 45 16 26 58 27 28 59  1 35 23\n",
      " 41 31 18  8 13 52  4 50 48 25 43 32  7 19  9 46 40  6 24 39 42 14  2  5\n",
      " 49 57 12 10 29 21 17 47 30 33 15 20]\n"
     ]
    }
   ],
   "source": [
    "print(merged_data.Hour.unique(),'\\n\\n', merged_data.Minute.unique())"
   ]
  },
  {
   "cell_type": "code",
   "execution_count": 17,
   "id": "94173171",
   "metadata": {},
   "outputs": [
    {
     "name": "stdout",
     "output_type": "stream",
     "text": [
      "<class 'pandas.core.frame.DataFrame'>\n",
      "Int64Index: 48620 entries, 0 to 48619\n",
      "Data columns (total 18 columns):\n",
      " #   Column            Non-Null Count  Dtype         \n",
      "---  ------            --------------  -----         \n",
      " 0   order_id          48620 non-null  int64         \n",
      " 1   date              48620 non-null  datetime64[ns]\n",
      " 2   time              48620 non-null  datetime64[ns]\n",
      " 3   order_details_id  48620 non-null  int64         \n",
      " 4   pizza_id          48620 non-null  object        \n",
      " 5   quantity          48620 non-null  int64         \n",
      " 6   pizza_type_id     48620 non-null  object        \n",
      " 7   size              48620 non-null  object        \n",
      " 8   price             48620 non-null  float64       \n",
      " 9   name              48620 non-null  object        \n",
      " 10  category          48620 non-null  object        \n",
      " 11  ingredients       48620 non-null  object        \n",
      " 12  Year              48620 non-null  int64         \n",
      " 13  Month             48620 non-null  int64         \n",
      " 14  Day               48620 non-null  int64         \n",
      " 15  Weekday           48620 non-null  object        \n",
      " 16  Hour              48620 non-null  int64         \n",
      " 17  Minute            48620 non-null  int64         \n",
      "dtypes: datetime64[ns](2), float64(1), int64(8), object(7)\n",
      "memory usage: 7.0+ MB\n"
     ]
    }
   ],
   "source": [
    "merged_data.info()"
   ]
  },
  {
   "cell_type": "code",
   "execution_count": 18,
   "id": "892229e2",
   "metadata": {},
   "outputs": [
    {
     "data": {
      "text/html": [
       "<div>\n",
       "<style scoped>\n",
       "    .dataframe tbody tr th:only-of-type {\n",
       "        vertical-align: middle;\n",
       "    }\n",
       "\n",
       "    .dataframe tbody tr th {\n",
       "        vertical-align: top;\n",
       "    }\n",
       "\n",
       "    .dataframe thead th {\n",
       "        text-align: right;\n",
       "    }\n",
       "</style>\n",
       "<table border=\"1\" class=\"dataframe\">\n",
       "  <thead>\n",
       "    <tr style=\"text-align: right;\">\n",
       "      <th></th>\n",
       "      <th>order_id</th>\n",
       "      <th>order_details_id</th>\n",
       "      <th>quantity</th>\n",
       "      <th>price</th>\n",
       "      <th>Year</th>\n",
       "      <th>Month</th>\n",
       "      <th>Day</th>\n",
       "      <th>Hour</th>\n",
       "      <th>Minute</th>\n",
       "    </tr>\n",
       "  </thead>\n",
       "  <tbody>\n",
       "    <tr>\n",
       "      <th>count</th>\n",
       "      <td>48620.000000</td>\n",
       "      <td>48620.000000</td>\n",
       "      <td>48620.000000</td>\n",
       "      <td>48620.000000</td>\n",
       "      <td>48620.0</td>\n",
       "      <td>48620.000000</td>\n",
       "      <td>48620.000000</td>\n",
       "      <td>48620.000000</td>\n",
       "      <td>48620.000000</td>\n",
       "    </tr>\n",
       "    <tr>\n",
       "      <th>mean</th>\n",
       "      <td>10701.479761</td>\n",
       "      <td>24310.500000</td>\n",
       "      <td>1.019622</td>\n",
       "      <td>16.494132</td>\n",
       "      <td>2015.0</td>\n",
       "      <td>6.451131</td>\n",
       "      <td>15.461662</td>\n",
       "      <td>15.911806</td>\n",
       "      <td>29.654936</td>\n",
       "    </tr>\n",
       "    <tr>\n",
       "      <th>std</th>\n",
       "      <td>6180.119770</td>\n",
       "      <td>14035.529381</td>\n",
       "      <td>0.143077</td>\n",
       "      <td>3.621789</td>\n",
       "      <td>0.0</td>\n",
       "      <td>3.435420</td>\n",
       "      <td>8.809041</td>\n",
       "      <td>3.149836</td>\n",
       "      <td>17.310959</td>\n",
       "    </tr>\n",
       "    <tr>\n",
       "      <th>min</th>\n",
       "      <td>1.000000</td>\n",
       "      <td>1.000000</td>\n",
       "      <td>1.000000</td>\n",
       "      <td>9.750000</td>\n",
       "      <td>2015.0</td>\n",
       "      <td>1.000000</td>\n",
       "      <td>1.000000</td>\n",
       "      <td>9.000000</td>\n",
       "      <td>0.000000</td>\n",
       "    </tr>\n",
       "    <tr>\n",
       "      <th>25%</th>\n",
       "      <td>5337.000000</td>\n",
       "      <td>12155.750000</td>\n",
       "      <td>1.000000</td>\n",
       "      <td>12.750000</td>\n",
       "      <td>2015.0</td>\n",
       "      <td>3.000000</td>\n",
       "      <td>8.000000</td>\n",
       "      <td>13.000000</td>\n",
       "      <td>15.000000</td>\n",
       "    </tr>\n",
       "    <tr>\n",
       "      <th>50%</th>\n",
       "      <td>10682.500000</td>\n",
       "      <td>24310.500000</td>\n",
       "      <td>1.000000</td>\n",
       "      <td>16.500000</td>\n",
       "      <td>2015.0</td>\n",
       "      <td>6.000000</td>\n",
       "      <td>15.000000</td>\n",
       "      <td>16.000000</td>\n",
       "      <td>30.000000</td>\n",
       "    </tr>\n",
       "    <tr>\n",
       "      <th>75%</th>\n",
       "      <td>16100.000000</td>\n",
       "      <td>36465.250000</td>\n",
       "      <td>1.000000</td>\n",
       "      <td>20.250000</td>\n",
       "      <td>2015.0</td>\n",
       "      <td>9.000000</td>\n",
       "      <td>23.000000</td>\n",
       "      <td>18.000000</td>\n",
       "      <td>45.000000</td>\n",
       "    </tr>\n",
       "    <tr>\n",
       "      <th>max</th>\n",
       "      <td>21350.000000</td>\n",
       "      <td>48620.000000</td>\n",
       "      <td>4.000000</td>\n",
       "      <td>35.950000</td>\n",
       "      <td>2015.0</td>\n",
       "      <td>12.000000</td>\n",
       "      <td>31.000000</td>\n",
       "      <td>23.000000</td>\n",
       "      <td>59.000000</td>\n",
       "    </tr>\n",
       "  </tbody>\n",
       "</table>\n",
       "</div>"
      ],
      "text/plain": [
       "           order_id  order_details_id      quantity         price     Year  \\\n",
       "count  48620.000000      48620.000000  48620.000000  48620.000000  48620.0   \n",
       "mean   10701.479761      24310.500000      1.019622     16.494132   2015.0   \n",
       "std     6180.119770      14035.529381      0.143077      3.621789      0.0   \n",
       "min        1.000000          1.000000      1.000000      9.750000   2015.0   \n",
       "25%     5337.000000      12155.750000      1.000000     12.750000   2015.0   \n",
       "50%    10682.500000      24310.500000      1.000000     16.500000   2015.0   \n",
       "75%    16100.000000      36465.250000      1.000000     20.250000   2015.0   \n",
       "max    21350.000000      48620.000000      4.000000     35.950000   2015.0   \n",
       "\n",
       "              Month           Day          Hour        Minute  \n",
       "count  48620.000000  48620.000000  48620.000000  48620.000000  \n",
       "mean       6.451131     15.461662     15.911806     29.654936  \n",
       "std        3.435420      8.809041      3.149836     17.310959  \n",
       "min        1.000000      1.000000      9.000000      0.000000  \n",
       "25%        3.000000      8.000000     13.000000     15.000000  \n",
       "50%        6.000000     15.000000     16.000000     30.000000  \n",
       "75%        9.000000     23.000000     18.000000     45.000000  \n",
       "max       12.000000     31.000000     23.000000     59.000000  "
      ]
     },
     "execution_count": 18,
     "metadata": {},
     "output_type": "execute_result"
    }
   ],
   "source": [
    "merged_data.describe()"
   ]
  },
  {
   "cell_type": "code",
   "execution_count": 19,
   "id": "eb45a690",
   "metadata": {},
   "outputs": [
    {
     "data": {
      "text/plain": [
       "2015-11-26    261\n",
       "2015-11-27    259\n",
       "2015-10-15    258\n",
       "2015-07-04    233\n",
       "2015-07-03    207\n",
       "             ... \n",
       "2015-12-27     87\n",
       "2015-11-22     82\n",
       "2015-12-29     77\n",
       "2015-03-22     76\n",
       "2015-12-30     73\n",
       "Name: date, Length: 358, dtype: int64"
      ]
     },
     "execution_count": 19,
     "metadata": {},
     "output_type": "execute_result"
    }
   ],
   "source": [
    "merged_data ['date'].value_counts()"
   ]
  },
  {
   "cell_type": "code",
   "execution_count": 20,
   "id": "0b97d738",
   "metadata": {},
   "outputs": [
    {
     "data": {
      "text/plain": [
       "2023-10-28 12:32:00    26\n",
       "2023-10-28 11:59:10    24\n",
       "2023-10-28 12:26:04    23\n",
       "2023-10-28 12:52:36    23\n",
       "2023-10-28 12:53:29    23\n",
       "                       ..\n",
       "2023-10-28 21:41:31     1\n",
       "2023-10-28 15:54:54     1\n",
       "2023-10-28 17:19:08     1\n",
       "2023-10-28 12:46:25     1\n",
       "2023-10-28 12:09:59     1\n",
       "Name: time, Length: 16382, dtype: int64"
      ]
     },
     "execution_count": 20,
     "metadata": {},
     "output_type": "execute_result"
    }
   ],
   "source": [
    "merged_data ['time'].value_counts()"
   ]
  },
  {
   "cell_type": "code",
   "execution_count": 21,
   "id": "17f63e75",
   "metadata": {},
   "outputs": [
    {
     "data": {
      "text/plain": [
       "18845    21\n",
       "10760    21\n",
       "13906    15\n",
       "14304    15\n",
       "17464    15\n",
       "         ..\n",
       "11184     1\n",
       "11805     1\n",
       "12261     1\n",
       "12423     1\n",
       "21282     1\n",
       "Name: order_id, Length: 21350, dtype: int64"
      ]
     },
     "execution_count": 21,
     "metadata": {},
     "output_type": "execute_result"
    }
   ],
   "source": [
    "merged_data['order_id'].value_counts()"
   ]
  },
  {
   "cell_type": "code",
   "execution_count": 22,
   "id": "6d2d635e",
   "metadata": {},
   "outputs": [
    {
     "data": {
      "text/plain": [
       "big_meat_s        1811\n",
       "thai_ckn_l        1365\n",
       "five_cheese_l     1359\n",
       "four_cheese_l     1273\n",
       "classic_dlx_m     1159\n",
       "                  ... \n",
       "mexicana_s         160\n",
       "calabrese_s         99\n",
       "ckn_alfredo_s       96\n",
       "green_garden_l      94\n",
       "the_greek_xxl       28\n",
       "Name: pizza_id, Length: 91, dtype: int64"
      ]
     },
     "execution_count": 22,
     "metadata": {},
     "output_type": "execute_result"
    }
   ],
   "source": [
    "merged_data['pizza_id'].value_counts()"
   ]
  },
  {
   "cell_type": "code",
   "execution_count": 23,
   "id": "c4c7e1d4",
   "metadata": {},
   "outputs": [
    {
     "data": {
      "text/plain": [
       "classic_dlx     2416\n",
       "bbq_ckn         2372\n",
       "hawaiian        2370\n",
       "pepperoni       2369\n",
       "thai_ckn        2315\n",
       "cali_ckn        2302\n",
       "sicilian        1887\n",
       "spicy_ital      1887\n",
       "southw_ckn      1885\n",
       "four_cheese     1850\n",
       "ital_supr       1849\n",
       "big_meat        1811\n",
       "veggie_veg      1510\n",
       "mexicana        1456\n",
       "napolitana      1451\n",
       "spinach_fet     1432\n",
       "prsc_argla      1428\n",
       "peppr_salami    1422\n",
       "ital_cpcllo     1414\n",
       "the_greek       1406\n",
       "five_cheese     1359\n",
       "pep_msh_pep     1342\n",
       "green_garden     987\n",
       "ckn_alfredo      980\n",
       "ital_veggie      975\n",
       "ckn_pesto        961\n",
       "spin_pesto       957\n",
       "soppressata      957\n",
       "spinach_supr     940\n",
       "calabrese        927\n",
       "mediterraneo     923\n",
       "brie_carre       480\n",
       "Name: pizza_type_id, dtype: int64"
      ]
     },
     "execution_count": 23,
     "metadata": {},
     "output_type": "execute_result"
    }
   ],
   "source": [
    "merged_data['pizza_type_id'].value_counts()"
   ]
  },
  {
   "cell_type": "code",
   "execution_count": 24,
   "id": "ddd3ff8a",
   "metadata": {},
   "outputs": [
    {
     "data": {
      "text/plain": [
       "The Classic Deluxe Pizza                      2416\n",
       "The Barbecue Chicken Pizza                    2372\n",
       "The Hawaiian Pizza                            2370\n",
       "The Pepperoni Pizza                           2369\n",
       "The Thai Chicken Pizza                        2315\n",
       "The California Chicken Pizza                  2302\n",
       "The Sicilian Pizza                            1887\n",
       "The Spicy Italian Pizza                       1887\n",
       "The Southwest Chicken Pizza                   1885\n",
       "The Four Cheese Pizza                         1850\n",
       "The Italian Supreme Pizza                     1849\n",
       "The Big Meat Pizza                            1811\n",
       "The Vegetables + Vegetables Pizza             1510\n",
       "The Mexicana Pizza                            1456\n",
       "The Napolitana Pizza                          1451\n",
       "The Spinach and Feta Pizza                    1432\n",
       "The Prosciutto and Arugula Pizza              1428\n",
       "The Pepper Salami Pizza                       1422\n",
       "The Italian Capocollo Pizza                   1414\n",
       "The Greek Pizza                               1406\n",
       "The Five Cheese Pizza                         1359\n",
       "The Pepperoni, Mushroom, and Peppers Pizza    1342\n",
       "The Green Garden Pizza                         987\n",
       "The Chicken Alfredo Pizza                      980\n",
       "The Italian Vegetables Pizza                   975\n",
       "The Chicken Pesto Pizza                        961\n",
       "The Spinach Pesto Pizza                        957\n",
       "The Soppressata Pizza                          957\n",
       "The Spinach Supreme Pizza                      940\n",
       "The Calabrese Pizza                            927\n",
       "The Mediterranean Pizza                        923\n",
       "The Brie Carre Pizza                           480\n",
       "Name: name, dtype: int64"
      ]
     },
     "execution_count": 24,
     "metadata": {},
     "output_type": "execute_result"
    }
   ],
   "source": [
    "merged_data['name'].value_counts()"
   ]
  },
  {
   "cell_type": "code",
   "execution_count": 25,
   "id": "161cf811",
   "metadata": {},
   "outputs": [
    {
     "data": {
      "text/plain": [
       "Pepperoni, Mushrooms, Red Onions, Red Peppers, Bacon                                                 2416\n",
       "Barbecued Chicken, Red Peppers, Green Peppers, Tomatoes, Red Onions, Barbecue Sauce                  2372\n",
       "Sliced Ham, Pineapple, Mozzarella Cheese                                                             2370\n",
       "Mozzarella Cheese, Pepperoni                                                                         2369\n",
       "Chicken, Pineapple, Tomatoes, Red Peppers, Thai Sweet Chilli Sauce                                   2315\n",
       "Chicken, Artichoke, Spinach, Garlic, Jalapeno Peppers, Fontina Cheese, Gouda Cheese                  2302\n",
       "Coarse Sicilian Salami, Tomatoes, Green Olives, Luganega Sausage, Onions, Garlic                     1887\n",
       "Capocollo, Tomatoes, Goat Cheese, Artichokes, Peperoncini verdi, Garlic                              1887\n",
       "Chicken, Tomatoes, Red Peppers, Red Onions, Jalapeno Peppers, Corn, Cilantro, Chipotle Sauce         1885\n",
       "Ricotta Cheese, Gorgonzola Piccante Cheese, Mozzarella Cheese, Parmigiano Reggiano Cheese, Garlic    1850\n",
       "Calabrese Salami, Capocollo, Tomatoes, Red Onions, Green Olives, Garlic                              1849\n",
       "Bacon, Pepperoni, Italian Sausage, Chorizo Sausage                                                   1811\n",
       "Mushrooms, Tomatoes, Red Peppers, Green Peppers, Red Onions, Zucchini, Spinach, Garlic               1510\n",
       "Tomatoes, Red Peppers, Jalapeno Peppers, Red Onions, Cilantro, Corn, Chipotle Sauce, Garlic          1456\n",
       "Tomatoes, Anchovies, Green Olives, Red Onions, Garlic                                                1451\n",
       "Spinach, Mushrooms, Red Onions, Feta Cheese, Garlic                                                  1432\n",
       "Prosciutto di San Daniele, Arugula, Mozzarella Cheese                                                1428\n",
       "Genoa Salami, Capocollo, Pepperoni, Tomatoes, Asiago Cheese, Garlic                                  1422\n",
       "Capocollo, Red Peppers, Tomatoes, Goat Cheese, Garlic, Oregano                                       1414\n",
       "Kalamata Olives, Feta Cheese, Tomatoes, Garlic, Beef Chuck Roast, Red Onions                         1406\n",
       "Mozzarella Cheese, Provolone Cheese, Smoked Gouda Cheese, Romano Cheese, Blue Cheese, Garlic         1359\n",
       "Pepperoni, Mushrooms, Green Peppers                                                                  1342\n",
       "Spinach, Mushrooms, Tomatoes, Green Olives, Feta Cheese                                               987\n",
       "Chicken, Red Onions, Red Peppers, Mushrooms, Asiago Cheese, Alfredo Sauce                             980\n",
       "Eggplant, Artichokes, Tomatoes, Zucchini, Red Peppers, Garlic, Pesto Sauce                            975\n",
       "Chicken, Tomatoes, Red Peppers, Spinach, Garlic, Pesto Sauce                                          961\n",
       "Spinach, Artichokes, Tomatoes, Sun-dried Tomatoes, Garlic, Pesto Sauce                                957\n",
       "Soppressata Salami, Fontina Cheese, Mozzarella Cheese, Mushrooms, Garlic                              957\n",
       "Spinach, Red Onions, Pepperoni, Tomatoes, Artichokes, Kalamata Olives, Garlic, Asiago Cheese          940\n",
       "Nduja Salami, Pancetta, Tomatoes, Red Onions, Friggitello Peppers, Garlic                            927\n",
       "Spinach, Artichokes, Kalamata Olives, Sun-dried Tomatoes, Feta Cheese, Plum Tomatoes, Red Onions      923\n",
       "Brie Carre Cheese, Prosciutto, Caramelized Onions, Pears, Thyme, Garlic                               480\n",
       "Name: ingredients, dtype: int64"
      ]
     },
     "execution_count": 25,
     "metadata": {},
     "output_type": "execute_result"
    }
   ],
   "source": [
    "merged_data['ingredients'].value_counts()"
   ]
  },
  {
   "cell_type": "code",
   "execution_count": 26,
   "id": "b9eb2a53",
   "metadata": {},
   "outputs": [
    {
     "data": {
      "text/plain": [
       "1    47693\n",
       "2      903\n",
       "3       21\n",
       "4        3\n",
       "Name: quantity, dtype: int64"
      ]
     },
     "execution_count": 26,
     "metadata": {},
     "output_type": "execute_result"
    }
   ],
   "source": [
    "merged_data['quantity'].value_counts()"
   ]
  },
  {
   "cell_type": "code",
   "execution_count": 27,
   "id": "cdede92c",
   "metadata": {},
   "outputs": [
    {
     "data": {
      "text/plain": [
       "<Axes: xlabel='quantity', ylabel='count'>"
      ]
     },
     "execution_count": 27,
     "metadata": {},
     "output_type": "execute_result"
    },
    {
     "data": {
      "image/png": "[encoded data removed]",
      "text/plain": [
       "<Figure size 640x480 with 1 Axes>"
      ]
     },
     "metadata": {},
     "output_type": "display_data"
    }
   ],
   "source": [
    "sns.countplot(data=merged_data, x='quantity')"
   ]
  },
  {
   "cell_type": "markdown",
   "id": "4465f314",
   "metadata": {},
   "source": [
    "1 is the most quantity sold"
   ]
  },
  {
   "cell_type": "code",
   "execution_count": 28,
   "id": "33f57a7a",
   "metadata": {},
   "outputs": [
    {
     "data": {
      "text/plain": [
       "L      18526\n",
       "M      15385\n",
       "S      14137\n",
       "XL       544\n",
       "XXL       28\n",
       "Name: size, dtype: int64"
      ]
     },
     "execution_count": 28,
     "metadata": {},
     "output_type": "execute_result"
    }
   ],
   "source": [
    "merged_data['size'].value_counts()"
   ]
  },
  {
   "cell_type": "code",
   "execution_count": 29,
   "id": "5ccb9251",
   "metadata": {},
   "outputs": [
    {
     "data": {
      "text/plain": [
       "<Axes: xlabel='size', ylabel='count'>"
      ]
     },
     "execution_count": 29,
     "metadata": {},
     "output_type": "execute_result"
    },
    {
     "data": {
      "image/png": "[encoded data removed]",
      "text/plain": [
       "<Figure size 640x480 with 1 Axes>"
      ]
     },
     "metadata": {},
     "output_type": "display_data"
    }
   ],
   "source": [
    "sns.countplot(data=merged_data, x='size')"
   ]
  },
  {
   "cell_type": "markdown",
   "id": "708ff60d",
   "metadata": {},
   "source": [
    "L size pizza are sold more"
   ]
  },
  {
   "cell_type": "code",
   "execution_count": 30,
   "id": "4968c068",
   "metadata": {},
   "outputs": [
    {
     "data": {
      "text/plain": [
       "20.75    8685\n",
       "12.00    5600\n",
       "16.00    4474\n",
       "16.75    4294\n",
       "16.50    4040\n",
       "12.50    3328\n",
       "20.25    3032\n",
       "12.75    2507\n",
       "20.50    1998\n",
       "18.50    1359\n",
       "17.95    1273\n",
       "16.25    1114\n",
       "10.50    1001\n",
       "12.25     830\n",
       "9.75      739\n",
       "15.25     712\n",
       "14.75     577\n",
       "11.00     570\n",
       "25.50     544\n",
       "23.65     480\n",
       "13.25     473\n",
       "14.50     391\n",
       "17.50     381\n",
       "21.00     190\n",
       "35.95      28\n",
       "Name: price, dtype: int64"
      ]
     },
     "execution_count": 30,
     "metadata": {},
     "output_type": "execute_result"
    }
   ],
   "source": [
    "merged_data['price'].value_counts()"
   ]
  },
  {
   "cell_type": "code",
   "execution_count": 31,
   "id": "e64188ec",
   "metadata": {},
   "outputs": [
    {
     "data": {
      "text/plain": [
       "<Axes: xlabel='price', ylabel='count'>"
      ]
     },
     "execution_count": 31,
     "metadata": {},
     "output_type": "execute_result"
    },
    {
     "data": {
      "image/png": "[encoded data removed]",
      "text/plain": [
       "<Figure size 1600x1000 with 1 Axes>"
      ]
     },
     "metadata": {},
     "output_type": "display_data"
    }
   ],
   "source": [
    "plt.figure(figsize=(16,10))\n",
    "sns.countplot(data=merged_data, x='price')"
   ]
  },
  {
   "cell_type": "markdown",
   "id": "15cf98ba",
   "metadata": {},
   "source": [
    "20.75 is the most sold price while 35.95 is the least sold price"
   ]
  },
  {
   "cell_type": "code",
   "execution_count": 32,
   "id": "d2ad3574",
   "metadata": {},
   "outputs": [
    {
     "data": {
      "text/plain": [
       "Classic    14579\n",
       "Supreme    11777\n",
       "Veggie     11449\n",
       "Chicken    10815\n",
       "Name: category, dtype: int64"
      ]
     },
     "execution_count": 32,
     "metadata": {},
     "output_type": "execute_result"
    }
   ],
   "source": [
    "merged_data['category'].value_counts()"
   ]
  },
  {
   "cell_type": "code",
   "execution_count": 33,
   "id": "82870842",
   "metadata": {},
   "outputs": [
    {
     "data": {
      "text/plain": [
       "([<matplotlib.patches.Wedge at 0x1cea01d0700>,\n",
       "  <matplotlib.patches.Wedge at 0x1cea01d0610>,\n",
       "  <matplotlib.patches.Wedge at 0x1cea01d1870>,\n",
       "  <matplotlib.patches.Wedge at 0x1cea01d2140>],\n",
       " [Text(-0.8896261791992277, 0.6469661979449806, 'Classic'),\n",
       "  Text(-0.5240519409550533, -0.9671450579831556, 'Supreme'),\n",
       "  Text(0.9280974901480739, -0.5904532570668453, 'Veggie'),\n",
       "  Text(0.7076409174018589, 0.842166451492017, 'Chicken')],\n",
       " [Text(-0.48525064319957867, 0.35289065342453485, '30.0%'),\n",
       "  Text(-0.28584651324821087, -0.5275336679908121, '24.2%'),\n",
       "  Text(0.506234994626222, -0.32206541294555197, '23.5%'),\n",
       "  Text(0.3859859549464684, 0.45936351899564554, '22.2%')])"
      ]
     },
     "execution_count": 33,
     "metadata": {},
     "output_type": "execute_result"
    },
    {
     "data": {
      "image/png": "[encoded data removed]",
      "text/plain": [
       "<Figure size 640x480 with 1 Axes>"
      ]
     },
     "metadata": {},
     "output_type": "display_data"
    }
   ],
   "source": [
    "plt.pie(merged_data['category'].value_counts(), labels=merged_data['category'].value_counts().index,\n",
    "       autopct='%1.1f%%',startangle=90,shadow=True)"
   ]
  },
  {
   "cell_type": "code",
   "execution_count": 34,
   "id": "facf84c8",
   "metadata": {},
   "outputs": [
    {
     "data": {
      "text/plain": [
       "<Axes: xlabel='category', ylabel='count'>"
      ]
     },
     "execution_count": 34,
     "metadata": {},
     "output_type": "execute_result"
    },
    {
     "data": {
      "image/png": "[encoded data removed]",
      "text/plain": [
       "<Figure size 1000x600 with 1 Axes>"
      ]
     },
     "metadata": {},
     "output_type": "display_data"
    }
   ],
   "source": [
    "plt.figure(figsize=(10,6))\n",
    "sns.countplot(data=merged_data, x='category')"
   ]
  },
  {
   "cell_type": "markdown",
   "id": "371b0a17",
   "metadata": {},
   "source": [
    "Classic category pizza are sold more"
   ]
  },
  {
   "cell_type": "code",
   "execution_count": 35,
   "id": "227df58b",
   "metadata": {},
   "outputs": [
    {
     "data": {
      "text/plain": [
       "7     4301\n",
       "5     4239\n",
       "3     4186\n",
       "11    4185\n",
       "1     4156\n",
       "8     4094\n",
       "4     4067\n",
       "6     4025\n",
       "2     3892\n",
       "12    3859\n",
       "9     3819\n",
       "10    3797\n",
       "Name: Month, dtype: int64"
      ]
     },
     "execution_count": 35,
     "metadata": {},
     "output_type": "execute_result"
    }
   ],
   "source": [
    "merged_data['Month'].value_counts()"
   ]
  },
  {
   "cell_type": "code",
   "execution_count": 36,
   "id": "fb39675a",
   "metadata": {},
   "outputs": [
    {
     "data": {
      "text/plain": [
       "<Axes: xlabel='Month', ylabel='count'>"
      ]
     },
     "execution_count": 36,
     "metadata": {},
     "output_type": "execute_result"
    },
    {
     "data": {
      "image/png": "[encoded data removed]",
      "text/plain": [
       "<Figure size 640x480 with 1 Axes>"
      ]
     },
     "metadata": {},
     "output_type": "display_data"
    }
   ],
   "source": [
    "sns.countplot(data=merged_data, x='Month')"
   ]
  },
  {
   "cell_type": "markdown",
   "id": "add77833",
   "metadata": {},
   "source": [
    "7(July) is  the most busiest month follow by 11(November)"
   ]
  },
  {
   "cell_type": "code",
   "execution_count": 37,
   "id": "80f4b7e0",
   "metadata": {},
   "outputs": [
    {
     "data": {
      "text/plain": [
       "15    1844\n",
       "1     1782\n",
       "4     1773\n",
       "27    1763\n",
       "6     1673\n",
       "3     1660\n",
       "9     1656\n",
       "11    1655\n",
       "20    1650\n",
       "17    1649\n",
       "7     1647\n",
       "8     1646\n",
       "13    1643\n",
       "14    1643\n",
       "2     1624\n",
       "16    1609\n",
       "10    1601\n",
       "23    1595\n",
       "18    1589\n",
       "21    1560\n",
       "24    1546\n",
       "26    1504\n",
       "22    1484\n",
       "19    1463\n",
       "28    1450\n",
       "12    1443\n",
       "30    1439\n",
       "5     1427\n",
       "29    1361\n",
       "25    1245\n",
       "31     996\n",
       "Name: Day, dtype: int64"
      ]
     },
     "execution_count": 37,
     "metadata": {},
     "output_type": "execute_result"
    }
   ],
   "source": [
    "merged_data['Day'].value_counts()"
   ]
  },
  {
   "cell_type": "code",
   "execution_count": 38,
   "id": "9e06b3b2",
   "metadata": {},
   "outputs": [
    {
     "data": {
      "text/plain": [
       "<Axes: xlabel='Day', ylabel='count'>"
      ]
     },
     "execution_count": 38,
     "metadata": {},
     "output_type": "execute_result"
    },
    {
     "data": {
      "image/png": "[encoded data removed]",
      "text/plain": [
       "<Figure size 1300x600 with 1 Axes>"
      ]
     },
     "metadata": {},
     "output_type": "display_data"
    }
   ],
   "source": [
    "plt.figure(figsize=(13,6))\n",
    "sns.countplot(data=merged_data, x='Day')"
   ]
  },
  {
   "cell_type": "markdown",
   "id": "4276d6ae",
   "metadata": {},
   "source": [
    "15 is the day when highest pizza was sold"
   ]
  },
  {
   "cell_type": "code",
   "execution_count": 39,
   "id": "73ea7075",
   "metadata": {},
   "outputs": [
    {
     "data": {
      "text/plain": [
       "Friday       8106\n",
       "Saturday     7355\n",
       "Thursday     7323\n",
       "Wednesday    6797\n",
       "Tuesday      6753\n",
       "Monday       6369\n",
       "Sunday       5917\n",
       "Name: Weekday, dtype: int64"
      ]
     },
     "execution_count": 39,
     "metadata": {},
     "output_type": "execute_result"
    }
   ],
   "source": [
    "merged_data['Weekday'].value_counts()"
   ]
  },
  {
   "cell_type": "code",
   "execution_count": 40,
   "id": "2673951d",
   "metadata": {},
   "outputs": [
    {
     "data": {
      "text/plain": [
       "<Axes: xlabel='Weekday', ylabel='count'>"
      ]
     },
     "execution_count": 40,
     "metadata": {},
     "output_type": "execute_result"
    },
    {
     "data": {
      "image/png": "[encoded data removed]",
      "text/plain": [
       "<Figure size 1300x600 with 1 Axes>"
      ]
     },
     "metadata": {},
     "output_type": "display_data"
    }
   ],
   "source": [
    "plt.figure(figsize=(13,6))\n",
    "sns.countplot(data=merged_data, x='Weekday')"
   ]
  },
  {
   "cell_type": "markdown",
   "id": "3e4d20a6",
   "metadata": {},
   "source": [
    "Friday is the busiest weekday  "
   ]
  },
  {
   "cell_type": "code",
   "execution_count": 41,
   "id": "4865e241",
   "metadata": {},
   "outputs": [
    {
     "data": {
      "text/plain": [
       "12    6543\n",
       "13    6203\n",
       "18    5359\n",
       "17    5143\n",
       "19    4350\n",
       "16    4185\n",
       "14    3521\n",
       "20    3487\n",
       "15    3170\n",
       "11    2672\n",
       "21    2528\n",
       "22    1370\n",
       "23      68\n",
       "10      17\n",
       "9        4\n",
       "Name: Hour, dtype: int64"
      ]
     },
     "execution_count": 41,
     "metadata": {},
     "output_type": "execute_result"
    }
   ],
   "source": [
    "merged_data['Hour'].value_counts()"
   ]
  },
  {
   "cell_type": "code",
   "execution_count": 42,
   "id": "bc0e216d",
   "metadata": {},
   "outputs": [
    {
     "data": {
      "text/plain": [
       "<Axes: xlabel='Hour', ylabel='count'>"
      ]
     },
     "execution_count": 42,
     "metadata": {},
     "output_type": "execute_result"
    },
    {
     "data": {
      "image/png": "[encoded data removed]",
      "text/plain": [
       "<Figure size 1300x600 with 1 Axes>"
      ]
     },
     "metadata": {},
     "output_type": "display_data"
    }
   ],
   "source": [
    "plt.figure(figsize=(13,6))\n",
    "sns.countplot(data=merged_data, x='Hour')"
   ]
  },
  {
   "cell_type": "markdown",
   "id": "d9ddc5b8",
   "metadata": {},
   "source": [
    "More pizza are sold at 12pm - 1pm"
   ]
  },
  {
   "cell_type": "code",
   "execution_count": 44,
   "id": "c81b9c1b",
   "metadata": {},
   "outputs": [
    {
     "data": {
      "text/plain": [
       "<Axes: xlabel='size', ylabel='price'>"
      ]
     },
     "execution_count": 44,
     "metadata": {},
     "output_type": "execute_result"
    },
    {
     "data": {
      "image/png": "[encoded data removed]",
      "text/plain": [
       "<Figure size 640x480 with 1 Axes>"
      ]
     },
     "metadata": {},
     "output_type": "display_data"
    }
   ],
   "source": [
    "sns.barplot(x=merged_data['size'], y=merged_data['price'])"
   ]
  },
  {
   "cell_type": "markdown",
   "id": "b1e353be",
   "metadata": {},
   "source": [
    "XXL size have the higherst prices"
   ]
  },
  {
   "cell_type": "code",
   "execution_count": 45,
   "id": "0199b27b",
   "metadata": {},
   "outputs": [
    {
     "data": {
      "text/plain": [
       "<Axes: xlabel='category', ylabel='price'>"
      ]
     },
     "execution_count": 45,
     "metadata": {},
     "output_type": "execute_result"
    },
    {
     "data": {
      "image/png": "[encoded data removed]",
      "text/plain": [
       "<Figure size 640x480 with 1 Axes>"
      ]
     },
     "metadata": {},
     "output_type": "display_data"
    }
   ],
   "source": [
    "sns.barplot(x=merged_data['category'], y=merged_data['price'])"
   ]
  },
  {
   "cell_type": "markdown",
   "id": "15e030f5",
   "metadata": {},
   "source": [
    "Chicken category have highest price"
   ]
  },
  {
   "cell_type": "code",
   "execution_count": 47,
   "id": "d8d67f41",
   "metadata": {},
   "outputs": [
    {
     "data": {
      "text/plain": [
       "<Axes: xlabel='quantity', ylabel='price'>"
      ]
     },
     "execution_count": 47,
     "metadata": {},
     "output_type": "execute_result"
    },
    {
     "data": {
      "image/png": "[encoded data removed]",
      "text/plain": [
       "<Figure size 640x480 with 1 Axes>"
      ]
     },
     "metadata": {},
     "output_type": "display_data"
    }
   ],
   "source": [
    "sns.barplot(x=merged_data['quantity'], y=merged_data['price'])"
   ]
  },
  {
   "cell_type": "code",
   "execution_count": 48,
   "id": "5fd96b67",
   "metadata": {},
   "outputs": [
    {
     "data": {
      "text/plain": [
       "<Axes: xlabel='quantity', ylabel='category'>"
      ]
     },
     "execution_count": 48,
     "metadata": {},
     "output_type": "execute_result"
    },
    {
     "data": {
      "image/png": "[encoded data removed]",
      "text/plain": [
       "<Figure size 640x480 with 1 Axes>"
      ]
     },
     "metadata": {},
     "output_type": "display_data"
    }
   ],
   "source": [
    "sns.barplot(x=merged_data['quantity'], y=merged_data['category'])"
   ]
  },
  {
   "cell_type": "code",
   "execution_count": null,
   "id": "622e3b95",
   "metadata": {},
   "outputs": [],
   "source": []
  }
 ],
 "metadata": {
  "kernelspec": {
   "display_name": "Python 3 (ipykernel)",
   "language": "python",
   "name": "python3"
  },
  "language_info": {
   "codemirror_mode": {
    "name": "ipython",
    "version": 3
   },
   "file_extension": ".py",
   "mimetype": "text/x-python",
   "name": "python",
   "nbconvert_exporter": "python",
   "pygments_lexer": "ipython3",
   "version": "3.10.4"
  }
 },
 "nbformat": 4,
 "nbformat_minor": 5
}
